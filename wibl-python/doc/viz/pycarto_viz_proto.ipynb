{
 "cells": [
  {
   "cell_type": "code",
   "execution_count": 1,
   "id": "5082ca8d-f4ce-4d5e-a64a-b9d9250465d6",
   "metadata": {
    "editable": true,
    "slideshow": {
     "slide_type": ""
    },
    "tags": []
   },
   "outputs": [],
   "source": [
    "from cartopy.io import img_tiles"
   ]
  },
  {
   "cell_type": "code",
   "execution_count": 2,
   "id": "15506ffe-4aee-43b1-abdb-8a9cf844652f",
   "metadata": {
    "editable": true,
    "slideshow": {
     "slide_type": ""
    },
    "tags": []
   },
   "outputs": [],
   "source": [
    "class GEBCO(img_tiles.GoogleWTS):\n",
    "    def _image_url(self, tile):\n",
    "        x, y, z = tile\n",
    "        return f\"https://maps.ccom.unh.edu/server/rest/services/GEBCO2022/GEBCO_2022_Bathymetry_GCS_Tiled/MapServer/tile/{z}/{y}/{x}\"\n"
   ]
  },
  {
   "cell_type": "code",
   "execution_count": 12,
   "id": "d54f0daa-7d69-4605-bbe7-fe309c080e89",
   "metadata": {
    "editable": true,
    "slideshow": {
     "slide_type": ""
    },
    "tags": []
   },
   "outputs": [],
   "source": [
    "import cartopy.crs as ccrs\n",
    "import matplotlib.pyplot as plt\n",
    "import cartopy.feature as cfeature"
   ]
  },
  {
   "cell_type": "code",
   "execution_count": 7,
   "id": "47a70340-35d0-440f-a294-f248fc8b63c7",
   "metadata": {
    "editable": true,
    "slideshow": {
     "slide_type": ""
    },
    "tags": []
   },
   "outputs": [],
   "source": [
    "region = [-71, -70, 42.5, 43.5]"
   ]
  },
  {
   "cell_type": "code",
   "execution_count": 23,
   "id": "d86f6e30-a9ee-4172-bf8b-00ea7d4b0521",
   "metadata": {
    "editable": true,
    "slideshow": {
     "slide_type": ""
    },
    "tags": []
   },
   "outputs": [
    {
     "data": {
      "image/png": "[encoded data removed]",
      "text/plain": [
       "<Figure size 640x480 with 1 Axes>"
      ]
     },
     "metadata": {},
     "output_type": "display_data"
    }
   ],
   "source": [
    "tiler = GEBCO()\n",
    "mercator = tiler.crs\n",
    "\n",
    "fig = plt.figure()\n",
    "ax = fig.add_subplot(1, 1, 1, projection=mercator)\n",
    "#ax.set_extent([-90, -73, 22, 34], crs=ccrs.PlateCarree())\n",
    "ax.set_extent(region, crs=ccrs.PlateCarree())\n",
    "\n",
    "# ax.add_image(tiler, 6)\n",
    "ax.add_image(tiler, 6)\n",
    "\n",
    "ax.add_feature(cfeature.LAND, zorder=2)\n",
    "ax.add_feature(cfeature.COASTLINE, zorder=1)\n",
    "\n",
    "#ax.coastlines()\n",
    "\n",
    "\n",
    "plt.show()"
   ]
  },
  {
   "cell_type": "markdown",
   "id": "05a26ad0-83b5-4dc9-bea5-efb1084577b6",
   "metadata": {
    "editable": true,
    "slideshow": {
     "slide_type": ""
    },
    "tags": []
   },
   "source": [
    "# "
   ]
  }
 ],
 "metadata": {
  "kernelspec": {
   "display_name": "Python 3 (ipykernel)",
   "language": "python",
   "name": "python3"
  },
  "language_info": {
   "codemirror_mode": {
    "name": "ipython",
    "version": 3
   },
   "file_extension": ".py",
   "mimetype": "text/x-python",
   "name": "python",
   "nbconvert_exporter": "python",
   "pygments_lexer": "ipython3",
   "version": "3.11.6"
  }
 },
 "nbformat": 4,
 "nbformat_minor": 5
}
