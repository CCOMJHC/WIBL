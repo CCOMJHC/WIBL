{
 "cells": [
  {
   "cell_type": "markdown",
   "source": [
    "Demonstrate running WIBL processing lambda locally"
   ],
   "metadata": {
    "collapsed": false,
    "pycharm": {
     "name": "#%% md\n"
    }
   }
  },
  {
   "cell_type": "code",
   "execution_count": 1,
   "outputs": [],
   "source": [
    "import wibl.processing.cloud.aws.lambda_function as lf"
   ],
   "metadata": {
    "collapsed": false,
    "pycharm": {
     "name": "#%%\n"
    }
   }
  },
  {
   "cell_type": "code",
   "execution_count": 2,
   "outputs": [],
   "source": [
    "event = lf.read_local_event('test-event.json')"
   ],
   "metadata": {
    "collapsed": false,
    "pycharm": {
     "name": "#%%\n"
    }
   }
  },
  {
   "cell_type": "markdown",
   "source": [
    "Configure environment variables"
   ],
   "metadata": {
    "collapsed": false,
    "pycharm": {
     "name": "#%% md\n"
    }
   }
  },
  {
   "cell_type": "code",
   "execution_count": 10,
   "outputs": [],
   "source": [
    "import os\n",
    "os.environ['WIBL_CONFIG_FILE'] = 'configure.local.json'\n",
    "os.environ['PROVIDER_ID'] = 'dummy_provider_id'\n",
    "os.environ['STAGING_BUCKET'] = 'dummy-staging-bucket'\n",
    "os.environ['UPLOAD_POINT'] = 'gopher://dummy.upload.point/'"
   ],
   "metadata": {
    "collapsed": false,
    "pycharm": {
     "name": "#%%\n"
    }
   }
  },
  {
   "cell_type": "markdown",
   "source": [
    "Run lambda handler"
   ],
   "metadata": {
    "collapsed": false,
    "pycharm": {
     "name": "#%% md\n"
    }
   }
  },
  {
   "cell_type": "code",
   "execution_count": 13,
   "outputs": [
    {
     "name": "stdout",
     "output_type": "stream",
     "text": [
      "Local mode: from bucket csb-upload-ingest-bucket object test.bin to local file /tmp/test.bin\n",
      "Local mode: Transmitting to dummy-staging-bucket for sourceID dummy_provider_id-Gulf Surveyor, output object key test.bin.json with data b'{\"type\": \"FeatureCollection\", \"crs\": {\"type\": \"name\", \"properties\": {\"name\": \"EPSG:4326\"}}, \"properties\": {\"convention\": \"CSB 2.0\", \"platform\": {\"uniqueID\": \"dummy_provider_id-Gulf Surveyor\", \"type\": \"Ship\", \"name\": \"WIBL-Simulator\", \"IDType\": \"LoggerName\", \"IDNumber\": \"Gulf Surveyor\"}, \"providerContactPoint\": {\"orgName\": \"CCOM/JHC, UNH\", \"email\": \"wibl@ccom.unh.edu\", \"logger\": \"WIBL\", \"loggerVersion\": \"1.0/1.0.0/1.0.0\"}, \"depthUnits\": \"meters\", \"timeUnits\": \"ISO 8601\"}, \"lineage\": [], \"features\": [{\"type\": \"Feature\", \"geometry\": {\"type\": \"Point\", \"coordinates\": [-74.01666653127933, 43.000000135387346]}, \"properties\": {\"depth\": 10.0, \"time\": \"2020-01-01T00:00:02.197374\"}}, {\"type\": \"Feature\", \"geometry\": {\"type\": \"Point\", \"coordinates\": [-74.01666647755833, 43.000000189108334]}, \"properties\": {\"depth\": 9.9, \"time\": \"2020-01-01T00:00:06.641000\"}}, {\"type\": \"Feature\", \"geometry\": {\"type\": \"Point\", \"coordinates\": [-74.01666642528446, 43.00000024138222]}, \"properties\": {\"depth\": 9.9, \"time'...\n"
     ]
    }
   ],
   "source": [
    "result = lf.lambda_handler(event, [])"
   ],
   "metadata": {
    "collapsed": false,
    "pycharm": {
     "name": "#%%\n"
    }
   }
  },
  {
   "cell_type": "code",
   "execution_count": 14,
   "outputs": [
    {
     "data": {
      "text/plain": "{'statusCode': 200, 'body': '\"Processing completed.\"'}"
     },
     "execution_count": 14,
     "metadata": {},
     "output_type": "execute_result"
    }
   ],
   "source": [
    "result"
   ],
   "metadata": {
    "collapsed": false,
    "pycharm": {
     "name": "#%%\n"
    }
   }
  }
 ],
 "metadata": {
  "kernelspec": {
   "display_name": "Python 3 (ipykernel)",
   "language": "python",
   "name": "python3"
  },
  "language_info": {
   "codemirror_mode": {
    "name": "ipython",
    "version": 3
   },
   "file_extension": ".py",
   "mimetype": "text/x-python",
   "name": "python",
   "nbconvert_exporter": "python",
   "pygments_lexer": "ipython3",
   "version": "3.9.12"
  }
 },
 "nbformat": 4,
 "nbformat_minor": 5
}