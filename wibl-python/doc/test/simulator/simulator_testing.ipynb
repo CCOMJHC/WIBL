{
 "cells": [
  {
   "cell_type": "code",
   "execution_count": 8,
   "outputs": [],
   "source": [
    "import wibl.processing.cloud.aws.lambda_function as lf"
   ],
   "metadata": {
    "collapsed": false,
    "pycharm": {
     "name": "#%%\n"
    }
   }
  },
  {
   "cell_type": "code",
   "execution_count": 2,
   "outputs": [],
   "source": [
    "event = lf.read_local_event('test-event.json')"
   ],
   "metadata": {
    "collapsed": false,
    "pycharm": {
     "name": "#%%\n"
    }
   }
  },
  {
   "cell_type": "code",
   "execution_count": 8,
   "outputs": [
    {
     "name": "stdout",
     "output_type": "stream",
     "text": [
      "Local mode: from bucket csb-upload-ingest-bucket object test.bin to local file /tmp/test.bin\n",
      "Local mode: Transmitting to ${DCDB_STAGING_BUCKET} for sourceID ${PROVIDER_ID}-Gulf Surveyor, output object key test.bin.json with data b'{\"type\": \"FeatureCollection\", \"crs\": {\"type\": \"name\", \"properties\": {\"name\": \"EPSG:4326\"}}, \"properties\": {\"convention\": \"CSB 2.0\", \"platform\": {\"uniqueID\": \"${PROVIDER_ID}-Gulf Surveyor\", \"type\": \"Ship\", \"name\": \"WIBL-Simulator\", \"IDType\": \"LoggerName\", \"IDNumber\": \"Gulf Surveyor\"}, \"providerContactPoint\": {\"orgName\": \"CCOM/JHC, UNH\", \"email\": \"wibl@ccom.unh.edu\", \"logger\": \"WIBL\", \"loggerVersion\": \"1.0/1.0.0/1.0.0\"}, \"depthUnits\": \"meters\", \"timeUnits\": \"ISO 8601\"}, \"lineage\": [], \"features\": [{\"type\": \"Feature\", \"geometry\": {\"type\": \"Point\", \"coordinates\": [-74.99999089736362, 43.000009102636405]}, \"properties\": {\"depth\": 10.01533895790577, \"time\": \"2019-12-31T19:00:01.783000\"}}, {\"type\": \"Feature\", \"geometry\": {\"type\": \"Point\", \"coordinates\": [-74.99998501646523, 43.000014983534804]}, \"properties\": {\"depth\": 10.038521960377695, \"time\": \"2019-12-31T19:00:03.581000\"}}, {\"type\": \"Feature\", \"geometry\": {\"type\": \"Point\", \"coordinates\": [-74.99998083638283, 43.0000191636172]}, \"propertie'...\n"
     ]
    }
   ],
   "source": [
    "result = lf.lambda_handler(event, [])"
   ],
   "metadata": {
    "collapsed": false,
    "pycharm": {
     "name": "#%%\n"
    }
   }
  },
  {
   "cell_type": "code",
   "execution_count": 9,
   "outputs": [
    {
     "data": {
      "text/plain": "{'statusCode': 200, 'body': '\"Processing completed.\"'}"
     },
     "execution_count": 9,
     "metadata": {},
     "output_type": "execute_result"
    }
   ],
   "source": [
    "result"
   ],
   "metadata": {
    "collapsed": false,
    "pycharm": {
     "name": "#%%\n"
    }
   }
  },
  {
   "cell_type": "code",
   "execution_count": 2,
   "outputs": [],
   "source": [
    "event_inject = lf.read_local_event('test-event-inject.json')"
   ],
   "metadata": {
    "collapsed": false,
    "pycharm": {
     "name": "#%%\n"
    }
   }
  },
  {
   "cell_type": "code",
   "execution_count": 3,
   "outputs": [
    {
     "name": "stdout",
     "output_type": "stream",
     "text": [
      "Local mode: from bucket csb-upload-ingest-bucket object test-inject.bin to local file /tmp/test-inject.bin\n",
      "Local mode: Transmitting to ${DCDB_STAGING_BUCKET} for sourceID ${PROVIDER_ID}-88CBAFC1-F758-4BF5-A609-A94023291761-Gulf Surveyor, output object key test-inject.bin.json with data b'{\"type\": \"FeatureCollection\", \"crs\": {\"type\": \"name\", \"properties\": {\"name\": \"EPSG:4326\"}}, \"properties\": {\"convention\": \"CSB 2.0\", \"platform\": {\"uniqueID\": \"${PROVIDER_ID}-88CBAFC1-F758-4BF5-A609-A94023291761-Gulf Surveyor\", \"type\": \"Ship\", \"name\": \"WIBL-Simulator\", \"IDType\": \"LoggerName\", \"IDNumber\": \"Gulf Surveyor\", \"sensors\": [{\"type\": \"Sounder\", \"make\": \"Beep Blop Bloop\", \"model\": \"3000\", \"transducer\": \"\"}, {\"type\": \"GNSS\", \"make\": \"Top secret\", \"model\": \"Need to know\"}]}, \"providerContactPoint\": {\"orgName\": \"CCOM/JHC, UNH\", \"email\": \"wibl@ccom.unh.edu\", \"logger\": \"WIBL\", \"loggerVersion\": \"1.0/1.0.0/1.0.0\"}, \"depthUnits\": \"meters\", \"timeUnits\": \"ISO 8601\"}, \"lineage\": [], \"features\": [{\"type\": \"Feature\", \"geometry\": {\"type\": \"Point\", \"coordinates\": [-74.99999089736362, 43.000009102636405]}, \"properties\": {\"depth\": 10.01533895790577, \"time\": \"2019-12-31T19:00:01.783000\"}}, {\"type\": \"Feature\", \"geometry\": {\"type\": \"Point\", \"coordinates\": [-74.99998501646523, 43.000014983534804]}, \"p'...\n"
     ]
    }
   ],
   "source": [
    "result_inject = lf.lambda_handler(event_inject, [])"
   ],
   "metadata": {
    "collapsed": false,
    "pycharm": {
     "name": "#%%\n"
    }
   }
  },
  {
   "cell_type": "code",
   "execution_count": 20,
   "outputs": [
    {
     "data": {
      "text/plain": "{'statusCode': 200, 'body': '\"Processing completed.\"'}"
     },
     "execution_count": 20,
     "metadata": {},
     "output_type": "execute_result"
    }
   ],
   "source": [
    "result_inject"
   ],
   "metadata": {
    "collapsed": false,
    "pycharm": {
     "name": "#%%\n"
    }
   }
  },
  {
   "cell_type": "code",
   "execution_count": 4,
   "outputs": [],
   "source": [
    "event_py_inject = lf.read_local_event('test-event-inject-python.json')"
   ],
   "metadata": {
    "collapsed": false,
    "pycharm": {
     "name": "#%%\n"
    }
   }
  },
  {
   "cell_type": "code",
   "execution_count": 5,
   "outputs": [
    {
     "name": "stdout",
     "output_type": "stream",
     "text": [
      "Local mode: from bucket csb-upload-ingest-bucket object python_test-inject.bin to local file /tmp/python_test-inject.bin\n",
      "Local mode: Transmitting to ${DCDB_STAGING_BUCKET} for sourceID ${PROVIDER_ID}-88CBAFC1-F758-4BF5-A609-A94023291761-Gulf Surveyor, output object key python_test-inject.bin.json with data b'{\"type\": \"FeatureCollection\", \"crs\": {\"type\": \"name\", \"properties\": {\"name\": \"EPSG:4326\"}}, \"properties\": {\"convention\": \"CSB 2.0\", \"platform\": {\"uniqueID\": \"${PROVIDER_ID}-88CBAFC1-F758-4BF5-A609-A94023291761-Gulf Surveyor\", \"type\": \"Ship\", \"name\": \"WIBL-Simulator\", \"IDType\": \"LoggerName\", \"IDNumber\": \"Gulf Surveyor\", \"sensors\": [{\"type\": \"Sounder\", \"make\": \"Beep Blop Bloop\", \"model\": \"3000\", \"transducer\": \"\"}, {\"type\": \"GNSS\", \"make\": \"Top secret\", \"model\": \"Need to know\"}]}, \"providerContactPoint\": {\"orgName\": \"CCOM/JHC, UNH\", \"email\": \"wibl@ccom.unh.edu\", \"logger\": \"WIBL\", \"loggerVersion\": \"1.0/1.0.0/1.0.0\"}, \"depthUnits\": \"meters\", \"timeUnits\": \"ISO 8601\"}, \"lineage\": [], \"features\": [{\"type\": \"Feature\", \"geometry\": {\"type\": \"Point\", \"coordinates\": [-74.01666653127933, 43.000000135387346]}, \"properties\": {\"depth\": 10.0, \"time\": \"2020-01-01T00:00:02.197374\"}}, {\"type\": \"Feature\", \"geometry\": {\"type\": \"Point\", \"coordinates\": [-74.01666647755833, 43.000000189108334]}, \"properties\": {'...\n"
     ]
    }
   ],
   "source": [
    "result_py_inject = lf.lambda_handler(event_py_inject, [])"
   ],
   "metadata": {
    "collapsed": false,
    "pycharm": {
     "name": "#%%\n"
    }
   }
  },
  {
   "cell_type": "code",
   "execution_count": 6,
   "outputs": [],
   "source": [
    "event_cpp_inject = lf.read_local_event('test-event-inject-debugcpp.json')"
   ],
   "metadata": {
    "collapsed": false,
    "pycharm": {
     "name": "#%%\n"
    }
   }
  },
  {
   "cell_type": "code",
   "execution_count": 7,
   "outputs": [
    {
     "name": "stdout",
     "output_type": "stream",
     "text": [
      "Local mode: from bucket csb-upload-ingest-bucket object debug-inject.out to local file /tmp/debug-inject.out\n",
      "Local mode: Transmitting to ${DCDB_STAGING_BUCKET} for sourceID ${PROVIDER_ID}-88CBAFC1-F758-4BF5-A609-A94023291761-Gulf Surveyor, output object key debug-inject.out.json with data b'{\"type\": \"FeatureCollection\", \"crs\": {\"type\": \"name\", \"properties\": {\"name\": \"EPSG:4326\"}}, \"properties\": {\"convention\": \"CSB 2.0\", \"platform\": {\"uniqueID\": \"${PROVIDER_ID}-88CBAFC1-F758-4BF5-A609-A94023291761-Gulf Surveyor\", \"type\": \"Ship\", \"name\": \"WIBL-Simulator\", \"IDType\": \"LoggerName\", \"IDNumber\": \"Gulf Surveyor\", \"sensors\": [{\"type\": \"Sounder\", \"make\": \"Beep Blop Bloop\", \"model\": \"3000\", \"transducer\": \"\"}, {\"type\": \"GNSS\", \"make\": \"Top secret\", \"model\": \"Need to know\"}]}, \"providerContactPoint\": {\"orgName\": \"CCOM/JHC, UNH\", \"email\": \"wibl@ccom.unh.edu\", \"logger\": \"WIBL\", \"loggerVersion\": \"1.0/1.0.0/1.0.0\"}, \"depthUnits\": \"meters\", \"timeUnits\": \"ISO 8601\"}, \"lineage\": [], \"features\": [{\"type\": \"Feature\", \"geometry\": {\"type\": \"Point\", \"coordinates\": [-74.01666651085, 43.000000155816664]}, \"properties\": {\"depth\": 9.9, \"time\": \"2020-01-01T00:00:01.783000\"}}, {\"type\": \"Feature\", \"geometry\": {\"type\": \"Point\", \"coordinates\": [-74.01666642245, 43.000000244216665]}, \"properties\": {\"depth\"'...\n"
     ]
    }
   ],
   "source": [
    "result_cpp_inject = lf.lambda_handler(event_cpp_inject, [])"
   ],
   "metadata": {
    "collapsed": false,
    "pycharm": {
     "name": "#%%\n"
    }
   }
  },
  {
   "cell_type": "code",
   "execution_count": 14,
   "outputs": [],
   "source": [
    "event_pydb_inject = lf.read_local_event('test-event-inject-python_db.json')"
   ],
   "metadata": {
    "collapsed": false,
    "pycharm": {
     "name": "#%%\n"
    }
   }
  },
  {
   "cell_type": "code",
   "execution_count": 15,
   "outputs": [
    {
     "name": "stdout",
     "output_type": "stream",
     "text": [
      "Local mode: from bucket csb-upload-ingest-bucket object python_test_db-inject.bin to local file /tmp/python_test_db-inject.bin\n",
      "Local mode: Transmitting to ${DCDB_STAGING_BUCKET} for sourceID ${PROVIDER_ID}-88CBAFC1-F758-4BF5-A609-A94023291761-Gulf Surveyor, output object key python_test_db-inject.bin.json with data b'{\"type\": \"FeatureCollection\", \"crs\": {\"type\": \"name\", \"properties\": {\"name\": \"EPSG:4326\"}}, \"properties\": {\"convention\": \"CSB 2.0\", \"platform\": {\"uniqueID\": \"${PROVIDER_ID}-88CBAFC1-F758-4BF5-A609-A94023291761-Gulf Surveyor\", \"type\": \"Ship\", \"name\": \"WIBL-Simulator\", \"IDType\": \"LoggerName\", \"IDNumber\": \"Gulf Surveyor\", \"sensors\": [{\"type\": \"Sounder\", \"make\": \"Beep Blop Bloop\", \"model\": \"3000\", \"transducer\": \"\"}, {\"type\": \"GNSS\", \"make\": \"Top secret\", \"model\": \"Need to know\"}]}, \"providerContactPoint\": {\"orgName\": \"CCOM/JHC, UNH\", \"email\": \"wibl@ccom.unh.edu\", \"logger\": \"WIBL\", \"loggerVersion\": \"1.0/1.0.0/1.0.0\"}, \"depthUnits\": \"meters\", \"timeUnits\": \"ISO 8601\"}, \"lineage\": [], \"features\": [{\"type\": \"Feature\", \"geometry\": {\"type\": \"Point\", \"coordinates\": [-74.01666655, 43.00000011666667]}, \"properties\": {\"depth\": 10.0, \"time\": \"2020-01-01T00:00:02.501000\"}}, {\"type\": \"Feature\", \"geometry\": {\"type\": \"Point\", \"coordinates\": [-74.01666645, 43.00000021666666]}, \"properties\": {\"depth\": 9.9, '...\n"
     ]
    }
   ],
   "source": [
    "result_pydb_inject = lf.lambda_handler(event_pydb_inject, [])"
   ],
   "metadata": {
    "collapsed": false,
    "pycharm": {
     "name": "#%%\n"
    }
   }
  },
  {
   "cell_type": "code",
   "execution_count": 16,
   "outputs": [],
   "source": [
    "event_py_bis_inject = lf.read_local_event('test-event-inject-python_db_bis.json')"
   ],
   "metadata": {
    "collapsed": false,
    "pycharm": {
     "name": "#%%\n"
    }
   }
  },
  {
   "cell_type": "code",
   "execution_count": 17,
   "outputs": [
    {
     "name": "stdout",
     "output_type": "stream",
     "text": [
      "Local mode: from bucket csb-upload-ingest-bucket object python_test_db_bis-inject.bin to local file /tmp/python_test_db_bis-inject.bin\n",
      "Local mode: Transmitting to ${DCDB_STAGING_BUCKET} for sourceID ${PROVIDER_ID}-88CBAFC1-F758-4BF5-A609-A94023291761-Gulf Surveyor, output object key python_test_db_bis-inject.bin.json with data b'{\"type\": \"FeatureCollection\", \"crs\": {\"type\": \"name\", \"properties\": {\"name\": \"EPSG:4326\"}}, \"properties\": {\"convention\": \"CSB 2.0\", \"platform\": {\"uniqueID\": \"${PROVIDER_ID}-88CBAFC1-F758-4BF5-A609-A94023291761-Gulf Surveyor\", \"type\": \"Ship\", \"name\": \"WIBL-Simulator\", \"IDType\": \"LoggerName\", \"IDNumber\": \"Gulf Surveyor\", \"sensors\": [{\"type\": \"Sounder\", \"make\": \"Beep Blop Bloop\", \"model\": \"3000\", \"transducer\": \"\"}, {\"type\": \"GNSS\", \"make\": \"Top secret\", \"model\": \"Need to know\"}]}, \"providerContactPoint\": {\"orgName\": \"CCOM/JHC, UNH\", \"email\": \"wibl@ccom.unh.edu\", \"logger\": \"WIBL\", \"loggerVersion\": \"1.0/1.0.0/1.0.0\"}, \"depthUnits\": \"meters\", \"timeUnits\": \"ISO 8601\"}, \"lineage\": [], \"features\": [{\"type\": \"Feature\", \"geometry\": {\"type\": \"Point\", \"coordinates\": [-74.01666653029385, 43.00000013637282]}, \"properties\": {\"depth\": 10.1, \"time\": \"2020-01-01T00:00:02.301394\"}}, {\"type\": \"Feature\", \"geometry\": {\"type\": \"Point\", \"coordinates\": [-74.0166664768769, 43.00000018978976]}, \"properties\": {\"de'...\n"
     ]
    }
   ],
   "source": [
    "result_py_bis_inject = lf.lambda_handler(event_py_bis_inject, [])"
   ],
   "metadata": {
    "collapsed": false,
    "pycharm": {
     "name": "#%%\n"
    }
   }
  },
  {
   "cell_type": "code",
   "execution_count": null,
   "outputs": [],
   "source": [],
   "metadata": {
    "collapsed": false,
    "pycharm": {
     "name": "#%%\n"
    }
   }
  }
 ],
 "metadata": {
  "kernelspec": {
   "display_name": "Python 3 (ipykernel)",
   "language": "python",
   "name": "python3"
  },
  "language_info": {
   "codemirror_mode": {
    "name": "ipython",
    "version": 3
   },
   "file_extension": ".py",
   "mimetype": "text/x-python",
   "name": "python",
   "nbconvert_exporter": "python",
   "pygments_lexer": "ipython3",
   "version": "3.9.12"
  }
 },
 "nbformat": 4,
 "nbformat_minor": 5
}